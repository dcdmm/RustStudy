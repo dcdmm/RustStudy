{
 "cells": [
  {
   "cell_type": "code",
   "execution_count": 10,
   "id": "b478d21c-d763-4e9c-bf21-5b3693f9cac8",
   "metadata": {},
   "outputs": [
    {
     "data": {
      "text/plain": [
       "()"
      ]
     },
     "execution_count": 10,
     "metadata": {},
     "output_type": "execute_result"
    }
   ],
   "source": [
    "enum IpAddrKind {\n",
    "    V4,\n",
    "    V6,\n",
    "}\n",
    "\n",
    "fn main() {\n",
    "    let four = IpAddrKind::V4;\n",
    "    let six = IpAddrKind::V6;\n",
    "\n",
    "    route(IpAddrKind::V4);\n",
    "    route(IpAddrKind::V6);\n",
    "}\n",
    "\n",
    "fn route(ip_kind: IpAddrKind) {}\n",
    "\n",
    "main()"
   ]
  },
  {
   "cell_type": "code",
   "execution_count": 11,
   "id": "7318bb13-dd8f-4112-967d-116a0efe63bc",
   "metadata": {},
   "outputs": [
    {
     "data": {
      "text/plain": [
       "()"
      ]
     },
     "execution_count": 11,
     "metadata": {},
     "output_type": "execute_result"
    }
   ],
   "source": [
    "fn main() {\n",
    "    enum IpAddrKind {\n",
    "        V4,\n",
    "        V6,\n",
    "    }\n",
    "\n",
    "    struct IpAddr {\n",
    "        kind: IpAddrKind,\n",
    "        address: String,\n",
    "    }\n",
    "\n",
    "    let home = IpAddr {\n",
    "        kind: IpAddrKind::V4,\n",
    "        address: String::from(\"127.0.0.1\"),\n",
    "    };\n",
    "\n",
    "    let loopback = IpAddr {\n",
    "        kind: IpAddrKind::V6,\n",
    "        address: String::from(\"::1\"),\n",
    "    };\n",
    "}\n",
    "\n",
    "main()"
   ]
  },
  {
   "cell_type": "code",
   "execution_count": 12,
   "id": "3cf2d393-25d1-4bf4-b54a-a3314157748f",
   "metadata": {},
   "outputs": [
    {
     "data": {
      "text/plain": [
       "()"
      ]
     },
     "execution_count": 12,
     "metadata": {},
     "output_type": "execute_result"
    }
   ],
   "source": [
    "fn main() {\n",
    "    enum IpAddr {\n",
    "        V4(String),\n",
    "        V6(String),\n",
    "    }\n",
    "\n",
    "    let home = IpAddr::V4(String::from(\"127.0.0.1\"));\n",
    "\n",
    "    let loopback = IpAddr::V6(String::from(\"::1\"));\n",
    "}\n",
    "\n",
    "main()"
   ]
  },
  {
   "cell_type": "code",
   "execution_count": 13,
   "id": "bedee415-7107-4372-868c-8a21d296902f",
   "metadata": {},
   "outputs": [
    {
     "data": {
      "text/plain": [
       "()"
      ]
     },
     "execution_count": 13,
     "metadata": {},
     "output_type": "execute_result"
    }
   ],
   "source": [
    "fn main() {\n",
    "    enum IpAddr {\n",
    "        V4(u8, u8, u8, u8),\n",
    "        V6(String),\n",
    "    }\n",
    "\n",
    "    let home = IpAddr::V4(127, 0, 0, 1);\n",
    "\n",
    "    let loopback = IpAddr::V6(String::from(\"::1\"));\n",
    "}\n",
    "\n",
    "main()"
   ]
  },
  {
   "cell_type": "code",
   "execution_count": 14,
   "id": "a8a7c129-41d8-4c2c-b6c8-4b684cac25d6",
   "metadata": {},
   "outputs": [],
   "source": [
    "enum Message {\n",
    "    Quit, // Quit has no data associated with it at all.\n",
    "    Move { x: i32, y: i32 }, // Move has named fields like a struct does.\n",
    "    Write(String), // Write includes a single String.\n",
    "    ChangeColor(i32, i32, i32), // ChangeColor includes three i32 values.\n",
    "}\n",
    "\n",
    "fn main() {}\n"
   ]
  },
  {
   "cell_type": "code",
   "execution_count": 15,
   "id": "e6ced72d-b389-4614-a08f-11165acef98b",
   "metadata": {},
   "outputs": [
    {
     "data": {
      "text/plain": [
       "()"
      ]
     },
     "execution_count": 15,
     "metadata": {},
     "output_type": "execute_result"
    }
   ],
   "source": [
    "fn main() {\n",
    "    enum Message {\n",
    "        Quit,\n",
    "        Move { x: i32, y: i32 },\n",
    "        Write(String),\n",
    "        ChangeColor(i32, i32, i32),\n",
    "    }\n",
    "    \n",
    "    // There is one more similarity between enums and structs: just as we’re able to define methods on structs using impl, we’re also able to define methods on enums. \n",
    "    // Here’s a method named call that we could define on our Message enum:\n",
    "    impl Message {\n",
    "        fn call(&self) {\n",
    "            // method body would be defined here\n",
    "        }\n",
    "    }\n",
    "\n",
    "    let m = Message::Write(String::from(\"hello\"));\n",
    "    m.call();\n",
    "}\n",
    "\n",
    "main()"
   ]
  }
 ],
 "metadata": {
  "kernelspec": {
   "display_name": "Rust",
   "language": "rust",
   "name": "rust"
  },
  "language_info": {
   "codemirror_mode": "rust",
   "file_extension": ".rs",
   "mimetype": "text/rust",
   "name": "Rust",
   "pygment_lexer": "rust",
   "version": ""
  }
 },
 "nbformat": 4,
 "nbformat_minor": 5
}

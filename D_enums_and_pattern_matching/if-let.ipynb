{
 "cells": [
  {
   "cell_type": "code",
   "execution_count": 2,
   "id": "a0809793-89a9-4659-af7c-37ac0711a01c",
   "metadata": {},
   "outputs": [
    {
     "name": "stdout",
     "output_type": "stream",
     "text": [
      "The maximum is configured to be 3\n"
     ]
    },
    {
     "data": {
      "text/plain": [
       "()"
      ]
     },
     "execution_count": 2,
     "metadata": {},
     "output_type": "execute_result"
    }
   ],
   "source": [
    "fn main() {\n",
    "    let config_max = Some(3u8);\n",
    "    match config_max {\n",
    "        Some(max) => println!(\"The maximum is configured to be {}\", max),\n",
    "        _ => (),\n",
    "    }\n",
    "}\n",
    "\n",
    "main()"
   ]
  },
  {
   "cell_type": "code",
   "execution_count": 3,
   "id": "0885f368-b7b3-4760-ae69-d2e5c10b6678",
   "metadata": {},
   "outputs": [
    {
     "name": "stdout",
     "output_type": "stream",
     "text": [
      "The maximum is configured to be 3\n"
     ]
    },
    {
     "data": {
      "text/plain": [
       "()"
      ]
     },
     "execution_count": 3,
     "metadata": {},
     "output_type": "execute_result"
    }
   ],
   "source": [
    "// 与上等价\n",
    "fn main() {\n",
    "    let config_max = Some(3u8);\n",
    "    // Using if let means less typing, less indentation, and less boilerplate code. \n",
    "    // However, you lose the exhaustive checking that match enforces. \n",
    "    // Choosing between match and if let depends on what you’re doing in your particular situation and whether gaining conciseness is an appropriate trade-off for losing exhaustive checking.\n",
    "    if let Some(max) = config_max {\n",
    "        println!(\"The maximum is configured to be {}\", max);\n",
    "    }\n",
    "}\n",
    "\n",
    "\n",
    "main()"
   ]
  },
  {
   "cell_type": "code",
   "execution_count": 4,
   "id": "62b7a854-8f5f-4b5c-a60b-257260fc5843",
   "metadata": {},
   "outputs": [
    {
     "data": {
      "text/plain": [
       "()"
      ]
     },
     "execution_count": 4,
     "metadata": {},
     "output_type": "execute_result"
    }
   ],
   "source": [
    "#[derive(Debug)]\n",
    "enum UsState {\n",
    "    Alabama,\n",
    "    Alaska,\n",
    "    // --snip--\n",
    "}\n",
    "\n",
    "enum Coin {\n",
    "    Penny,\n",
    "    Nickel,\n",
    "    Dime,\n",
    "    Quarter(UsState),\n",
    "}\n",
    "\n",
    "fn main() {\n",
    "    let coin = Coin::Penny;\n",
    "    let mut count = 0;\n",
    "    match coin {\n",
    "        Coin::Quarter(state) => println!(\"State quarter from {:?}!\", state),\n",
    "        _ => count += 1,\n",
    "    }\n",
    "}\n",
    "\n",
    "main()"
   ]
  },
  {
   "cell_type": "code",
   "execution_count": 5,
   "id": "c25c6e66-bdda-456c-81c1-5cd2fc0ecd60",
   "metadata": {},
   "outputs": [
    {
     "data": {
      "text/plain": [
       "()"
      ]
     },
     "execution_count": 5,
     "metadata": {},
     "output_type": "execute_result"
    }
   ],
   "source": [
    "#[derive(Debug)]\n",
    "enum UsState {\n",
    "    Alabama,\n",
    "    Alaska,\n",
    "    // --snip--\n",
    "}\n",
    "\n",
    "enum Coin {\n",
    "    Penny,\n",
    "    Nickel,\n",
    "    Dime,\n",
    "    Quarter(UsState),\n",
    "}\n",
    "\n",
    "// 遇上等价\n",
    "fn main() {\n",
    "    let coin = Coin::Penny;\n",
    "    let mut count = 0;\n",
    "    if let Coin::Quarter(state) = coin {\n",
    "        println!(\"State quarter from {:?}!\", state);\n",
    "    } else {\n",
    "        count += 1;\n",
    "    }\n",
    "}\n",
    "\n",
    "main()"
   ]
  },
  {
   "cell_type": "code",
   "execution_count": null,
   "id": "a92f9298-2604-4708-aef9-914a4518b87b",
   "metadata": {},
   "outputs": [],
   "source": []
  }
 ],
 "metadata": {
  "kernelspec": {
   "display_name": "Rust",
   "language": "rust",
   "name": "rust"
  },
  "language_info": {
   "codemirror_mode": "rust",
   "file_extension": ".rs",
   "mimetype": "text/rust",
   "name": "Rust",
   "pygment_lexer": "rust",
   "version": ""
  }
 },
 "nbformat": 4,
 "nbformat_minor": 5
}

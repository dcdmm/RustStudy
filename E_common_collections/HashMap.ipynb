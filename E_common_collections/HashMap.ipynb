{
 "cells": [
  {
   "cell_type": "code",
   "execution_count": 8,
   "id": "e0173543-ba2f-452d-b223-94c622127959",
   "metadata": {},
   "outputs": [
    {
     "data": {
      "text/plain": [
       "()"
      ]
     },
     "execution_count": 8,
     "metadata": {},
     "output_type": "execute_result"
    }
   ],
   "source": [
    "fn main() {\n",
    "    use std::collections::HashMap;\n",
    "\n",
    "    let mut scores: HashMap<String, i32> = HashMap::new(); // 空HashMap\n",
    "}\n",
    "\n",
    "main()"
   ]
  },
  {
   "cell_type": "code",
   "execution_count": 9,
   "id": "c2c237af-73c5-4ad1-b413-fa80f0b51dc4",
   "metadata": {},
   "outputs": [
    {
     "data": {
      "text/plain": [
       "()"
      ]
     },
     "execution_count": 9,
     "metadata": {},
     "output_type": "execute_result"
    }
   ],
   "source": [
    "fn main() {\n",
    "    use std::collections::HashMap;\n",
    "\n",
    "    let mut scores = HashMap::new(); \n",
    "\n",
    "    scores.insert(String::from(\"Blue\"), 10);\n",
    "    scores.insert(String::from(\"Yellow\"), 50);\n",
    "}\n",
    "\n",
    "main()"
   ]
  },
  {
   "cell_type": "code",
   "execution_count": 10,
   "id": "ae3ebc69-a045-4219-ae12-e1f273364854",
   "metadata": {},
   "outputs": [
    {
     "name": "stdout",
     "output_type": "stream",
     "text": [
      "{\"Blue\": 10, \"Yellow\": 50}\n"
     ]
    },
    {
     "data": {
      "text/plain": [
       "()"
      ]
     },
     "execution_count": 10,
     "metadata": {},
     "output_type": "execute_result"
    }
   ],
   "source": [
    "fn main() {\n",
    "    use std::collections::HashMap;\n",
    "\n",
    "    let mut scores = HashMap::new();\n",
    "    scores.insert(String::from(\"Blue\"), 10);\n",
    "    \n",
    "    // The or_insert method on Entry is defined to return a mutable reference to the value for the corresponding Entry key if that key exists, and if not, inserts the parameter as the new value for this key and returns a mutable reference to the new value. \n",
    "    scores.entry(String::from(\"Yellow\")).or_insert(50);\n",
    "    scores.entry(String::from(\"Blue\")).or_insert(50);\n",
    "\n",
    "    println!(\"{:?}\", scores);\n",
    "}\n",
    "\n",
    "main()"
   ]
  },
  {
   "cell_type": "code",
   "execution_count": 11,
   "id": "c837b2d8-08b2-425b-84a9-c493e3329175",
   "metadata": {},
   "outputs": [
    {
     "name": "stdout",
     "output_type": "stream",
     "text": [
      "{\"hello\": 1, \"wonderful\": 1, \"world\": 2}\n"
     ]
    },
    {
     "data": {
      "text/plain": [
       "()"
      ]
     },
     "execution_count": 11,
     "metadata": {},
     "output_type": "execute_result"
    }
   ],
   "source": [
    "fn main() {\n",
    "    use std::collections::HashMap;\n",
    "\n",
    "    let text = \"hello world wonderful world\";\n",
    "\n",
    "    let mut map = HashMap::new();\n",
    "\n",
    "    for word in text.split_whitespace() {\n",
    "        let count = map.entry(word).or_insert(0);\n",
    "        *count += 1;\n",
    "    }\n",
    "\n",
    "    println!(\"{:?}\", map);\n",
    "}\n",
    "\n",
    "main()"
   ]
  },
  {
   "cell_type": "code",
   "execution_count": null,
   "id": "9f829b46-01e9-492f-8f2d-935ab57f5539",
   "metadata": {},
   "outputs": [],
   "source": []
  }
 ],
 "metadata": {
  "kernelspec": {
   "display_name": "Rust",
   "language": "rust",
   "name": "rust"
  },
  "language_info": {
   "codemirror_mode": "rust",
   "file_extension": ".rs",
   "mimetype": "text/rust",
   "name": "Rust",
   "pygment_lexer": "rust",
   "version": ""
  }
 },
 "nbformat": 4,
 "nbformat_minor": 5
}

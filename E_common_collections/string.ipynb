{
 "cells": [
  {
   "cell_type": "code",
   "execution_count": 2,
   "id": "e8e12eda-87eb-4fbe-83a0-0327a672eb91",
   "metadata": {},
   "outputs": [
    {
     "data": {
      "text/plain": [
       "()"
      ]
     },
     "execution_count": 2,
     "metadata": {},
     "output_type": "execute_result"
    }
   ],
   "source": [
    "// The String type, which is provided by Rust’s standard library rather than coded into the core language, is a growable, mutable, owned, UTF-8 encoded string type. \n",
    "\n",
    "// Many of the same operations available with Vec<T> are available with String as well, because String is actually implemented as a wrapper around a vector of bytes with some extra guarantees, restrictions, and capabilities. \n",
    "fn main() {\n",
    "    // Creating a new, empty String\n",
    "    let mut s = String::new();\n",
    "}\n",
    "\n",
    "main()"
   ]
  },
  {
   "cell_type": "code",
   "execution_count": 3,
   "id": "512636af-332d-496a-ab85-86e50be763de",
   "metadata": {},
   "outputs": [
    {
     "data": {
      "text/plain": [
       "()"
      ]
     },
     "execution_count": 3,
     "metadata": {},
     "output_type": "execute_result"
    }
   ],
   "source": [
    "fn main() {\n",
    "    let data = \"initial contents\";\n",
    "    \n",
    "    // Using the to_string method to create a String from a string literal\n",
    "    let s = data.to_string();\n",
    "\n",
    "    // the method also works on a literal directly:\n",
    "    let s = \"initial contents\".to_string();\n",
    "}\n",
    "\n",
    "main()"
   ]
  },
  {
   "cell_type": "code",
   "execution_count": 4,
   "id": "5c040fe2-6eb5-47b3-b8b0-0d6bef6c1f1b",
   "metadata": {},
   "outputs": [
    {
     "data": {
      "text/plain": [
       "()"
      ]
     },
     "execution_count": 4,
     "metadata": {},
     "output_type": "execute_result"
    }
   ],
   "source": [
    "fn main() {\n",
    "    // We can also use the function String::from to create a String from a string literal.\n",
    "    let s = String::from(\"initial contents\");\n",
    "}\n",
    "\n",
    "main()"
   ]
  },
  {
   "cell_type": "code",
   "execution_count": 5,
   "id": "931b4e24-dde3-4de2-aaec-aff443fa5734",
   "metadata": {},
   "outputs": [
    {
     "data": {
      "text/plain": [
       "()"
      ]
     },
     "execution_count": 5,
     "metadata": {},
     "output_type": "execute_result"
    }
   ],
   "source": [
    "fn main() {\n",
    "    // Remember that strings are UTF-8 encoded, so we can include any properly encoded data in them\n",
    "    let hello = String::from(\"السلام عليكم\");\n",
    "    let hello = String::from(\"Dobrý den\");\n",
    "    let hello = String::from(\"Hello\");\n",
    "    let hello = String::from(\"שָׁלוֹם\");\n",
    "    let hello = String::from(\"नमस्ते\");\n",
    "    let hello = String::from(\"こんにちは\");\n",
    "    let hello = String::from(\"안녕하세요\");\n",
    "    let hello = String::from(\"你好\");\n",
    "    let hello = String::from(\"Olá\");\n",
    "    let hello = String::from(\"Здравствуйте\");\n",
    "    let hello = String::from(\"Hola\");\n",
    "}\n",
    "\n",
    "main()"
   ]
  },
  {
   "cell_type": "code",
   "execution_count": 6,
   "id": "a0ca15bb-720f-4ed2-bfdb-e96af2afffe4",
   "metadata": {},
   "outputs": [
    {
     "name": "stdout",
     "output_type": "stream",
     "text": [
      "s2 is bar\n"
     ]
    },
    {
     "data": {
      "text/plain": [
       "()"
      ]
     },
     "execution_count": 6,
     "metadata": {},
     "output_type": "execute_result"
    }
   ],
   "source": [
    "fn main() {\n",
    "    let mut s1 = String::from(\"foo\");\n",
    "    let s2 = \"bar\";\n",
    "    \n",
    "    // Appending a string slice to a String using the push_str method\n",
    "    s1.push_str(s2);\n",
    "    println!(\"s2 is {s2}\");\n",
    "}\n",
    "\n",
    "main()"
   ]
  },
  {
   "cell_type": "code",
   "execution_count": 7,
   "id": "85bb11c9-0ece-40b8-a257-cb5b71f10a9e",
   "metadata": {},
   "outputs": [
    {
     "data": {
      "text/plain": [
       "()"
      ]
     },
     "execution_count": 7,
     "metadata": {},
     "output_type": "execute_result"
    }
   ],
   "source": [
    "fn main() {\n",
    "    let mut s = String::from(\"lo\");\n",
    "    // The push method takes a single character as a parameter and adds it to the String\n",
    "    s.push('l');\n",
    "}\n",
    "\n",
    "\n",
    "main()"
   ]
  },
  {
   "cell_type": "code",
   "execution_count": 8,
   "id": "f97d8ee3-cf95-495a-b51e-e99ca8c32203",
   "metadata": {},
   "outputs": [
    {
     "data": {
      "text/plain": [
       "()"
      ]
     },
     "execution_count": 8,
     "metadata": {},
     "output_type": "execute_result"
    }
   ],
   "source": [
    "fn main() {\n",
    "    let s1 = String::from(\"Hello, \");\n",
    "    let s2 = String::from(\"world!\");\n",
    "    \n",
    "    // Using the + operator to combine two String values into a new String value\n",
    "    let s3 = s1 + &s2; // note s1 has been moved here and can no longer be used\n",
    "}\n",
    "\n",
    "// The + operator uses the add method, whose signature looks something like this:\n",
    "// fn add(self, s: &str) -> String {\n",
    "\n",
    "main()"
   ]
  },
  {
   "cell_type": "code",
   "execution_count": 9,
   "id": "21af4be6-e6ed-43f2-a138-a5eca7b1ccc4",
   "metadata": {},
   "outputs": [
    {
     "name": "stdout",
     "output_type": "stream",
     "text": [
      "tic-tac-toe\n"
     ]
    },
    {
     "data": {
      "text/plain": [
       "()"
      ]
     },
     "execution_count": 9,
     "metadata": {},
     "output_type": "execute_result"
    }
   ],
   "source": [
    "fn main() {\n",
    "    let s1 = String::from(\"tic\");\n",
    "    let s2 = String::from(\"tac\");\n",
    "    let s3 = String::from(\"toe\");\n",
    "    \n",
    "    // Creates a String using interpolation of runtime expressions.\n",
    "    let s = format!(\"{s1}-{s2}-{s3}\");\n",
    "    println!(\"{s}\")\n",
    "}\n",
    "\n",
    "\n",
    "main()"
   ]
  },
  {
   "cell_type": "code",
   "execution_count": 10,
   "id": "9d06201d-fd22-4dc4-85fb-ddebdfa77d5c",
   "metadata": {},
   "outputs": [
    {
     "ename": "Error",
     "evalue": "the type `String` cannot be indexed by `{integer}`",
     "output_type": "error",
     "traceback": [
      "    let h = s1[0]; // Rust strings don’t support indexing.",
      "\u001b[91m            ^^^^^\u001b[0m \u001b[94m`String` cannot be indexed by `{integer}`\u001b[0m",
      "the type `String` cannot be indexed by `{integer}`",
      "\u001b[1mhelp\u001b[0m: the trait `Index<{integer}>` is not implemented for `String`",
      "\u001b[1mhelp\u001b[0m: the following other types implement trait `Index<Idx>`:\n  <String as Index<RangeFrom<usize>>>\n  <String as Index<RangeFull>>\n  <String as Index<RangeInclusive<usize>>>\n  <String as Index<RangeTo<usize>>>\n  <String as Index<RangeToInclusive<usize>>>\n  <String as Index<std::ops::Range<usize>>>\n  <str as Index<I>>"
     ]
    }
   ],
   "source": [
    "fn main() {\n",
    "    let s1 = String::from(\"hello\");\n",
    "    let h = s1[0]; // Rust strings don’t support indexing.\n",
    "}\n",
    "\n",
    "main()"
   ]
  },
  {
   "cell_type": "code",
   "execution_count": 11,
   "id": "97c14211-b23a-4041-a27f-15d9cee6b5f3",
   "metadata": {},
   "outputs": [
    {
     "name": "stderr",
     "output_type": "stream",
     "text": [
      "thread '<unnamed>' panicked at 'byte index 3 is not a char boundary; it is inside 'д' (bytes 2..4) of `Здравствуйте`', src/lib.rs:6:14\n",
      "stack backtrace:\n",
      "note: Some details are omitted, run with `RUST_BACKTRACE=full` for a verbose backtrace.\n"
     ]
    }
   ],
   "source": [
    "#![allow(unused)]\n",
    "fn main() {\n",
    "    let hello = \"Здравствуйте\";  // 每一个字符两个字节\n",
    "\n",
    "    let s = &hello[0..3];\n",
    "}\n",
    "\n",
    "main()"
   ]
  },
  {
   "cell_type": "code",
   "execution_count": 6,
   "id": "944c9b93-0d97-471c-8147-c76e6ca0d50c",
   "metadata": {},
   "outputs": [
    {
     "name": "stdout",
     "output_type": "stream",
     "text": [
      "中\n",
      "国\n"
     ]
    },
    {
     "data": {
      "text/plain": [
       "()"
      ]
     },
     "execution_count": 6,
     "metadata": {},
     "output_type": "execute_result"
    }
   ],
   "source": [
    "fn main() {\n",
    "    for c in \"中国\".chars() {\n",
    "        println!(\"{c}\");\n",
    "    }\n",
    "}\n",
    "\n",
    "main()"
   ]
  },
  {
   "cell_type": "code",
   "execution_count": 7,
   "id": "e9076fb4-8a40-4ab5-8e49-c635bebfa4fe",
   "metadata": {},
   "outputs": [
    {
     "name": "stdout",
     "output_type": "stream",
     "text": [
      "228\n",
      "184\n",
      "173\n",
      "229\n",
      "155\n",
      "189\n"
     ]
    },
    {
     "data": {
      "text/plain": [
       "()"
      ]
     },
     "execution_count": 7,
     "metadata": {},
     "output_type": "execute_result"
    }
   ],
   "source": [
    "fn main() {\n",
    "    for c in \"中国\".bytes() {\n",
    "        println!(\"{c}\");\n",
    "    }\n",
    "}\n",
    "\n",
    "main()"
   ]
  },
  {
   "cell_type": "code",
   "execution_count": null,
   "id": "d7805fde-99b0-4c81-a8bd-e79b3b6f0161",
   "metadata": {},
   "outputs": [],
   "source": []
  }
 ],
 "metadata": {
  "kernelspec": {
   "display_name": "Rust",
   "language": "rust",
   "name": "rust"
  },
  "language_info": {
   "codemirror_mode": "rust",
   "file_extension": ".rs",
   "mimetype": "text/rust",
   "name": "Rust",
   "pygment_lexer": "rust",
   "version": ""
  }
 },
 "nbformat": 4,
 "nbformat_minor": 5
}

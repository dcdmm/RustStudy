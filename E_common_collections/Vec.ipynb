{
 "cells": [
  {
   "cell_type": "code",
   "execution_count": 18,
   "id": "fc647983-6669-4041-b752-e4c639ce1bcc",
   "metadata": {},
   "outputs": [
    {
     "data": {
      "text/plain": [
       "()"
      ]
     },
     "execution_count": 18,
     "metadata": {},
     "output_type": "execute_result"
    }
   ],
   "source": [
    "fn main() {\n",
    "    // To create a new empty vector\n",
    "    // Note that we added a type annotation here. Because we aren’t inserting any values into this vector, Rust doesn’t know what kind of elements we intend to store.\n",
    "    let v: Vec<i32> = Vec::new();\n",
    "}\n",
    "\n",
    "main()"
   ]
  },
  {
   "cell_type": "code",
   "execution_count": 19,
   "id": "3e14341a-2a48-4362-bf87-7cd88ec2d5c9",
   "metadata": {},
   "outputs": [
    {
     "data": {
      "text/plain": [
       "()"
      ]
     },
     "execution_count": 19,
     "metadata": {},
     "output_type": "execute_result"
    }
   ],
   "source": [
    "fn main() {\n",
    "    // More often, you’ll create a Vec<T> with initial values and Rust will infer the type of value you want to store, so you rarely need to do this type annotation. \n",
    "    // Rust conveniently provides the vec! macro, which will create a new vector that holds the values you give it.\n",
    "    let v = vec![1, 2, 3];\n",
    "}\n",
    "\n",
    "main()"
   ]
  },
  {
   "cell_type": "code",
   "execution_count": 20,
   "id": "f0d50b60-5104-486a-8c43-77f0661c0261",
   "metadata": {},
   "outputs": [],
   "source": [
    "// Updating a Vector\n",
    "fn main() {\n",
    "    // As with any variable, if we want to be able to change its value, we need to make it mutable using the mut keyword\n",
    "    let mut v = Vec::new();\n",
    "\n",
    "    v.push(5);\n",
    "    v.push(6);\n",
    "    v.push(7);\n",
    "    v.push(8);\n",
    "}"
   ]
  },
  {
   "cell_type": "code",
   "execution_count": 21,
   "id": "3478fadb-9ba7-4130-9654-0bcb0cc923f1",
   "metadata": {},
   "outputs": [
    {
     "name": "stdout",
     "output_type": "stream",
     "text": [
      "The third element is 3\n",
      "The third element is 3\n"
     ]
    },
    {
     "data": {
      "text/plain": [
       "()"
      ]
     },
     "execution_count": 21,
     "metadata": {},
     "output_type": "execute_result"
    }
   ],
   "source": [
    "// Reading Elements of Vectors\n",
    "fn main() {\n",
    "    let v = vec![1, 2, 3, 4, 5];\n",
    "\n",
    "    let third: &i32 = &v[2];\n",
    "    println!(\"The third element is {third}\");\n",
    "\n",
    "    let third: Option<&i32> = v.get(2);\n",
    "    match third {\n",
    "        Some(third) => println!(\"The third element is {third}\"),\n",
    "        None => println!(\"There is no third element.\"),\n",
    "    } // 与上等价,但更加安全\n",
    "}\n",
    "\n",
    "main()"
   ]
  },
  {
   "cell_type": "code",
   "execution_count": 22,
   "id": "717b09c3-0bba-4c27-a5b6-9ff3e139f28c",
   "metadata": {},
   "outputs": [
    {
     "ename": "Error",
     "evalue": "cannot borrow `v` as mutable because it is also borrowed as immutable",
     "output_type": "error",
     "traceback": [
      "    v.push(6);",
      "\u001b[91m    ^^^^^^^^^\u001b[0m \u001b[94mmutable borrow occurs here\u001b[0m",
      "    let first = &v[0];  // 索引",
      "\u001b[91m                 ^\u001b[0m \u001b[94mimmutable borrow occurs here\u001b[0m",
      "    println!(\"The first element is: {first}\");",
      "\u001b[91m                                     ^^^^^\u001b[0m \u001b[94mimmutable borrow later used here\u001b[0m",
      "cannot borrow `v` as mutable because it is also borrowed as immutable"
     ]
    }
   ],
   "source": [
    "fn main() {\n",
    "    let mut v = vec![1, 2, 3, 4, 5];\n",
    "\n",
    "    let first = &v[0];  // 索引\n",
    "    \n",
    "    //  why should a reference to the first element care about changes at the end of the vector? \n",
    "    // This error is due to the way vectors work: because vectors put the values next to each other in memory, adding a new element onto the end of the vector might require allocating new memory and copying the old elements to the new space, if there isn’t enough room to put all the elements next to each other where the vector is currently stored. \n",
    "    // In that case, the reference to the first element would be pointing to deallocated memory. \n",
    "    // The borrowing rules prevent programs from ending up in that situation.\n",
    "    v.push(6);\n",
    "\n",
    "    println!(\"The first element is: {first}\");\n",
    "}\n",
    "\n"
   ]
  },
  {
   "cell_type": "code",
   "execution_count": 23,
   "id": "4d02dff0-1696-49d4-9613-922bae6805b7",
   "metadata": {},
   "outputs": [
    {
     "name": "stdout",
     "output_type": "stream",
     "text": [
      "100\n",
      "32\n",
      "57\n"
     ]
    },
    {
     "data": {
      "text/plain": [
       "()"
      ]
     },
     "execution_count": 23,
     "metadata": {},
     "output_type": "execute_result"
    }
   ],
   "source": [
    "// Iterating over the Values in a Vector\n",
    "fn main() {\n",
    "    let v = vec![100, 32, 57];\n",
    "    for i in &v {\n",
    "        println!(\"{i}\");\n",
    "    }\n",
    "}\n",
    "\n",
    "main()\n"
   ]
  },
  {
   "cell_type": "code",
   "execution_count": 24,
   "id": "f312957c-bbb4-44d3-8cb1-dd06407b0631",
   "metadata": {},
   "outputs": [
    {
     "data": {
      "text/plain": [
       "()"
      ]
     },
     "execution_count": 24,
     "metadata": {},
     "output_type": "execute_result"
    }
   ],
   "source": [
    "// We can also iterate over mutable references to each element in a mutable vector in order to make changes to all the elements. \n",
    "fn main() {\n",
    "    let mut v = vec![100, 32, 57];\n",
    "    for i in &mut v {\n",
    "        // To change the value that the mutable reference refers to, we have to use the * dereference operator to get to the value in i before we can use the += operator. \n",
    "        *i += 50;\n",
    "    }\n",
    "}\n",
    "\n",
    "main()"
   ]
  },
  {
   "cell_type": "code",
   "execution_count": 25,
   "id": "f6d7f64c-3957-4057-81cd-7fa9f6cc9e05",
   "metadata": {},
   "outputs": [
    {
     "data": {
      "text/plain": [
       "()"
      ]
     },
     "execution_count": 25,
     "metadata": {},
     "output_type": "execute_result"
    }
   ],
   "source": [
    "// Using an Enum to Store Multiple Types\n",
    "\n",
    "// Vectors can only store values that are the same type. \n",
    "// This can be inconvenient; there are definitely use cases for needing to store a list of items of different types. \n",
    "// Fortunately, the variants of an enum are defined under the same enum type, so when we need one type to represent elements of different types, we can define and use an enum!\n",
    "fn main() {\n",
    "    enum SpreadsheetCell {\n",
    "        Int(i32),\n",
    "        Float(f64),\n",
    "        Text(String),\n",
    "    }\n",
    "\n",
    "    let row = vec![\n",
    "        SpreadsheetCell::Int(3),\n",
    "        SpreadsheetCell::Text(String::from(\"blue\")),\n",
    "        SpreadsheetCell::Float(10.12),\n",
    "    ];\n",
    "}\n",
    "\n",
    "// Rust needs to know what types will be in the vector at compile time so it knows exactly how much memory on the heap will be needed to store each element. \n",
    "// We must also be explicit about what types are allowed in this vector. \n",
    "// If Rust allowed a vector to hold any type, there would be a chance that one or more of the types would cause errors with the operations performed on the elements of the vector. \n",
    "// Using an enum plus a match expression means that Rust will ensure at compile time that every possible case is handled\n",
    "main()\n"
   ]
  },
  {
   "cell_type": "code",
   "execution_count": null,
   "id": "803b6def-44e7-40ac-9c6b-f0c2801c2661",
   "metadata": {},
   "outputs": [],
   "source": [
    "// Like any other struct, a vector is freed when it goes out of scope\n",
    "// When the vector gets dropped, all of its contents are also dropped, meaning the integers it holds will be cleaned up. \n",
    "fn main() {\n",
    "    {\n",
    "        let v = vec![1, 2, 3, 4];\n",
    "\n",
    "        // do stuff with v\n",
    "    } // <- v goes out of scope and is freed here\n",
    "}\n"
   ]
  }
 ],
 "metadata": {
  "kernelspec": {
   "display_name": "Rust",
   "language": "rust",
   "name": "rust"
  },
  "language_info": {
   "codemirror_mode": "rust",
   "file_extension": ".rs",
   "mimetype": "text/rust",
   "name": "Rust",
   "pygment_lexer": "rust",
   "version": ""
  }
 },
 "nbformat": 4,
 "nbformat_minor": 5
}

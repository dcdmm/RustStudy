{
 "cells": [
  {
   "cell_type": "code",
   "execution_count": 5,
   "id": "f9357111-968f-4b71-ba71-93ddb637b114",
   "metadata": {},
   "outputs": [
    {
     "name": "stdout",
     "output_type": "stream",
     "text": [
      "Hello, world!\n"
     ]
    },
    {
     "data": {
      "text/plain": [
       "()"
      ]
     },
     "execution_count": 5,
     "metadata": {},
     "output_type": "execute_result"
    }
   ],
   "source": [
    "// Every Rust program must have one function named main. \n",
    "// The code in the main function is always the first code run in a Rust program. \n",
    "// We can call other functions from within the main function, or from within other functions.\n",
    "fn main() {\n",
    "    println!(\"Hello, world!\");  // In the function body, most code statements end with a semicolon ;\n",
    "}\n",
    "\n",
    "main()"
   ]
  },
  {
   "cell_type": "code",
   "execution_count": null,
   "id": "842cd6d9-191d-4d15-971b-62f2a60373a9",
   "metadata": {},
   "outputs": [],
   "source": []
  }
 ],
 "metadata": {
  "kernelspec": {
   "display_name": "Rust",
   "language": "rust",
   "name": "rust"
  },
  "language_info": {
   "codemirror_mode": "rust",
   "file_extension": ".rs",
   "mimetype": "text/rust",
   "name": "Rust",
   "pygment_lexer": "rust",
   "version": ""
  }
 },
 "nbformat": 4,
 "nbformat_minor": 5
}

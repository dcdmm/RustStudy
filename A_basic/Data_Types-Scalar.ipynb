{
 "cells": [
  {
   "cell_type": "markdown",
   "id": "5cb6cad4-b151-4f4d-94d8-087aa7ce7d0c",
   "metadata": {},
   "source": [
    "A scalar type represents a single value. Rust has four primary scalar types: integers, floating-point numbers, Booleans, and characters.\n",
    "\n",
    "## Integer Types\n",
    "\n",
    "#### Integer Types in Rust\n",
    "\n",
    "| Length  | Signed  | Unsigned |\n",
    "| ------- | ------- | -------- |\n",
    "| 8-bit   | `i8`    | `u8`     |\n",
    "| 16-bit  | `i16`   | `u16`    |\n",
    "| 32-bit  | `i32`   | `u32`    |\n",
    "| 64-bit  | `i64`   | `u64`    |\n",
    "| 128-bit | `i128`  | `u128`   |\n",
    "| arch    | `isize` | `usize`  |\n",
    "\n",
    "Each variant can be either signed or unsigned and has an explicit size. Signed and unsigned refer to whether it’s possible for the number to be negative—in other words, whether the number needs to have a sign with it (signed) or whether it will only ever be positive and can therefore be represented without a sign (unsigned). It’s like writing numbers on paper: when the sign matters, a number is shown with a plus sign or a minus sign; however, when it’s safe to assume the number is positive, it’s shown with no sign. Signed numbers are stored using two’s complement(https://en.wikipedia.org/wiki/Two%27s_complement) representation.\n",
    "\n",
    "Each signed variant can store numbers from $-(2^{n - 1})$ to $2^{n - 1} - 1$ inclusive, where n is the number of bits that variant uses. So an i8 can store numbers from $-(2^7)$ to $2^7 - 1$, which equals -128 to 127. Unsigned variants can store numbers from 0 to $2^n - 1$, so a u8 can store numbers from 0 to $2^8 - 1$, which equals 0 to 255.\n",
    "\n",
    "Additionally, the isize and usize types depend on the architecture of the computer your program is running on, which is denoted in the table as “arch”: 64 bits if you’re on a 64-bit architecture and 32 bits if you’re on a 32-bit architecture.\n",
    "\n",
    "#### Integer Literals in Rust\n",
    "\n",
    "Number literals can also use _ as a visual separator to make the number easier to read, such as 1_000, which will have the same value as if you had specified 1000.\n",
    "\n",
    "| Number literals  | Example       |\n",
    "| ---------------- | ------------- |\n",
    "| Decimal          | `98_222`      |\n",
    "| Hex              | `0xff`        |\n",
    "| Octal            | `0o77`        |\n",
    "| Binary           | `0b1111_0000` |\n",
    "| Byte (`u8` only) | `b'A'`        |\n",
    "\n",
    "\n",
    "\n",
    "Rust’s defaults are generally good places to start: integer types default to i32. "
   ]
  },
  {
   "cell_type": "markdown",
   "id": "69474d92-5367-4f22-98a7-be9120071e2d",
   "metadata": {},
   "source": [
    "## Floating-Point Types\n",
    "\n",
    "Rust also has two primitive types for floating-point numbers, which are numbers with decimal points. Rust’s floating-point types are f32 and f64, which are 32 bits and 64 bits in size, respectively. The default type is f64 because on modern CPUs it’s roughly the same speed as f32 but is capable of more precision. All floating-point types are signed."
   ]
  },
  {
   "cell_type": "code",
   "execution_count": 4,
   "id": "b57674eb-4149-4c4c-bc6f-74b45272b98c",
   "metadata": {},
   "outputs": [
    {
     "name": "stdout",
     "output_type": "stream",
     "text": [
      "2\n",
      "3\n"
     ]
    },
    {
     "data": {
      "text/plain": [
       "()"
      ]
     },
     "execution_count": 4,
     "metadata": {},
     "output_type": "execute_result"
    }
   ],
   "source": [
    "fn main() {\n",
    "    let x = 2.0; // f64(默认)\n",
    "    println!(\"{x}\");\n",
    "    let y: f32 = 3.0; // f32\n",
    "    println!(\"{y}\");\n",
    "}\n",
    "\n",
    "main()"
   ]
  },
  {
   "cell_type": "markdown",
   "id": "3cb67a81-d7b2-41f5-84df-de8a1b68c44d",
   "metadata": {},
   "source": [
    "## The Boolean Type\n",
    "\n",
    "As in most other programming languages, a Boolean type in Rust has two possible values: true and false. Booleans are one byte in size. The Boolean type in Rust is specified using bool. For example:"
   ]
  },
  {
   "cell_type": "code",
   "execution_count": 5,
   "id": "3c9e0d7a-74b4-4702-8482-e996128d8803",
   "metadata": {},
   "outputs": [
    {
     "name": "stdout",
     "output_type": "stream",
     "text": [
      "true\n",
      "false\n"
     ]
    },
    {
     "data": {
      "text/plain": [
       "()"
      ]
     },
     "execution_count": 5,
     "metadata": {},
     "output_type": "execute_result"
    }
   ],
   "source": [
    "fn main() {\n",
    "    let t = true;\n",
    "    println!(\"{t}\");\n",
    "    \n",
    "    let f: bool = false; // with explicit type annotation\n",
    "    println!(\"{f}\");\n",
    "}\n",
    "\n",
    "main()"
   ]
  },
  {
   "cell_type": "markdown",
   "id": "62205c30-6233-497c-929d-07ea3b9d8fb2",
   "metadata": {},
   "source": [
    "## The Character Type\n",
    "\n",
    "Rust’s char type is the language’s most primitive alphabetic type. \n",
    "\n",
    "Note that we specify char literals with single quotes, as opposed to string literals, which use double quotes. Rust’s char type is four bytes in size and represents a Unicode Scalar Value, which means it can represent a lot more than just ASCII. Accented letters; Chinese, Japanese, and Korean characters; emoji; and zero-width spaces are all valid char values in Rust. Unicode Scalar Values range from U+0000 to U+D7FF and U+E000 to U+10FFFF inclusive."
   ]
  },
  {
   "cell_type": "code",
   "execution_count": 6,
   "id": "c7090355-ef23-44fa-b4b0-69d12aae47df",
   "metadata": {},
   "outputs": [
    {
     "name": "stdout",
     "output_type": "stream",
     "text": [
      "z\n",
      "ℤ\n",
      "😻\n"
     ]
    },
    {
     "data": {
      "text/plain": [
       "()"
      ]
     },
     "execution_count": 6,
     "metadata": {},
     "output_type": "execute_result"
    }
   ],
   "source": [
    "fn main() {\n",
    "    let c = 'z';\n",
    "    println!(\"{c}\");\n",
    "    let z: char = 'ℤ'; // with explicit type annotation\n",
    "    println!(\"{z}\");\n",
    "    let heart_eyed_cat = '😻';\n",
    "    println!(\"{heart_eyed_cat}\");\n",
    "}\n",
    "\n",
    "main()"
   ]
  },
  {
   "cell_type": "code",
   "execution_count": null,
   "id": "af937b8c-c22b-4382-8b5d-154831d1f2f3",
   "metadata": {},
   "outputs": [],
   "source": []
  }
 ],
 "metadata": {
  "kernelspec": {
   "display_name": "Rust",
   "language": "rust",
   "name": "rust"
  },
  "language_info": {
   "codemirror_mode": "rust",
   "file_extension": ".rs",
   "mimetype": "text/rust",
   "name": "Rust",
   "pygment_lexer": "rust",
   "version": ""
  }
 },
 "nbformat": 4,
 "nbformat_minor": 5
}

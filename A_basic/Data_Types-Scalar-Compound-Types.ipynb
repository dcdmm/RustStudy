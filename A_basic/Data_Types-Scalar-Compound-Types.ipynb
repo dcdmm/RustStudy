{
 "cells": [
  {
   "cell_type": "code",
   "execution_count": 3,
   "id": "e621ce9c-571c-4e8c-bb8c-b4b73b062192",
   "metadata": {},
   "outputs": [
    {
     "data": {
      "text/plain": [
       "()"
      ]
     },
     "execution_count": 3,
     "metadata": {},
     "output_type": "execute_result"
    }
   ],
   "source": [
    "fn main() {\n",
    "    // A tuple is a general way of grouping together a number of values with a variety of types into one compound type. \n",
    "    // Tuples have a fixed length: once declared, they cannot grow or shrink in size.\n",
    "    // We create a tuple by writing a comma-separated list of values inside parentheses. \n",
    "    // Each position in the tuple has a type, and the types of the different values in the tuple don’t have to be the same.\n",
    "    let tup: (i32, f64, u8) = (500, 6.4, 1);\n",
    "}\n",
    "\n",
    "main()\n"
   ]
  },
  {
   "cell_type": "code",
   "execution_count": 5,
   "id": "b6094fc3-2d87-47f6-aafa-faa0229b3d60",
   "metadata": {},
   "outputs": [
    {
     "name": "stdout",
     "output_type": "stream",
     "text": [
      "The value of y is: 6.4\n"
     ]
    },
    {
     "data": {
      "text/plain": [
       "()"
      ]
     },
     "execution_count": 5,
     "metadata": {},
     "output_type": "execute_result"
    }
   ],
   "source": [
    "fn main() {\n",
    "    let tup = (500, 6.4, 1);\n",
    "    \n",
    "    // The variable tup binds to the entire tuple, because a tuple is considered a single compound element. \n",
    "    // To get the individual values out of a tuple, we can use pattern matching to destructure a tuple value\n",
    "    let (x, y, z) = tup;\n",
    "\n",
    "    println!(\"The value of y is: {y}\");\n",
    "}\n",
    "\n",
    "main()"
   ]
  },
  {
   "cell_type": "code",
   "execution_count": 13,
   "id": "d00fd55e-074e-41c8-8381-f799291831c9",
   "metadata": {},
   "outputs": [
    {
     "name": "stdout",
     "output_type": "stream",
     "text": [
      "500\n",
      "6.4\n",
      "1\n"
     ]
    },
    {
     "data": {
      "text/plain": [
       "()"
      ]
     },
     "execution_count": 13,
     "metadata": {},
     "output_type": "execute_result"
    }
   ],
   "source": [
    "fn main() {\n",
    "    let x: (i32, f64, u8) = (500, 6.4, 1);\n",
    "\n",
    "    // We can also access a tuple element directly by using a period (.) followed by the index of the value we want to access.\n",
    "    let five_hundred = x.0;  // the first index in a tuple is 0\n",
    "\n",
    "    let six_point_four = x.1;\n",
    "\n",
    "    let one = x.2;\n",
    "    \n",
    "    println!(\"{five_hundred}\");\n",
    "    println!(\"{six_point_four}\");\n",
    "    println!(\"{one}\");\n",
    "    \n",
    "    // The tuple without any values has a special name, unit. This value and its corresponding type are both written () and represent an empty value or an empty return type.\n",
    "    let y = ();    \n",
    "}\n",
    "\n",
    "main()"
   ]
  },
  {
   "cell_type": "code",
   "execution_count": 15,
   "id": "8b8e6ef3-920d-4ff3-84a9-6ff286d00e87",
   "metadata": {},
   "outputs": [
    {
     "data": {
      "text/plain": [
       "()"
      ]
     },
     "execution_count": 15,
     "metadata": {},
     "output_type": "execute_result"
    }
   ],
   "source": [
    "fn main() {\n",
    "    // Unlike a tuple, every element of an array must have the same type. \n",
    "    // Unlike arrays in some other languages, arrays in Rust have a fixed length.\n",
    "    let a = [1, 2, 3, 4, 5];  // An array isn’t as flexible as the vector type\n",
    "    \n",
    "    \n",
    "    // You write an array’s type using square brackets with the type of each element, a semicolon, and then the number of elements in the array\n",
    "    // Here, i32 is the type of each element. After the semicolon, the number 5 indicates the array contains five elements.\n",
    "    let a: [i32; 5] = [1, 2, 3, 4, 5];\n",
    "    \n",
    "    // You can also initialize an array to contain the same value for each element by specifying the initial value, followed by a semicolon, and then the length of the array in square brackets\n",
    "    // The array named a will contain 5 elements that will all be set to the value 3 initially. This is the same as writing let a = [3, 3, 3, 3, 3]; but in a more concise way.\n",
    "    let a = [3; 5];\n",
    "}\n",
    "\n",
    "main()"
   ]
  },
  {
   "cell_type": "code",
   "execution_count": 17,
   "id": "33881bbd-ee64-4c2d-8778-e706aef99cf9",
   "metadata": {},
   "outputs": [
    {
     "name": "stdout",
     "output_type": "stream",
     "text": [
      "1\n"
     ]
    },
    {
     "data": {
      "text/plain": [
       "()"
      ]
     },
     "execution_count": 17,
     "metadata": {},
     "output_type": "execute_result"
    }
   ],
   "source": [
    "fn main() {\n",
    "    let a = [1, 2, 3, 4, 5];\n",
    "    \n",
    "    // An array is a single chunk of memory of a known, fixed size that can be allocated on the stack. You can access elements of an array using indexing\n",
    "    let first = a[0];  // 索引从0开始\n",
    "    let second = a[1];\n",
    "    println!(\"{first}\")\n",
    "}\n",
    "\n",
    "main()"
   ]
  },
  {
   "cell_type": "code",
   "execution_count": 18,
   "id": "87a7db6f-4183-4e50-9c1d-40cfcda1350c",
   "metadata": {},
   "outputs": [
    {
     "ename": "Error",
     "evalue": "this operation will panic at runtime",
     "output_type": "error",
     "traceback": [
      "\u001b[31m[unconditional_panic] Error:\u001b[0m this operation will panic at runtime",
      "   \u001b[38;5;246m╭\u001b[0m\u001b[38;5;246m─\u001b[0m\u001b[38;5;246m[\u001b[0mcommand_18:1:1\u001b[38;5;246m]\u001b[0m",
      "   \u001b[38;5;246m│\u001b[0m",
      " \u001b[38;5;246m4 │\u001b[0m \u001b[38;5;249m \u001b[0m\u001b[38;5;249m \u001b[0m\u001b[38;5;249m \u001b[0m\u001b[38;5;249m \u001b[0m\u001b[38;5;249ml\u001b[0m\u001b[38;5;249me\u001b[0m\u001b[38;5;249mt\u001b[0m\u001b[38;5;249m \u001b[0m\u001b[38;5;249mo\u001b[0m\u001b[38;5;249mv\u001b[0m\u001b[38;5;249me\u001b[0m\u001b[38;5;249mr\u001b[0m\u001b[38;5;249m \u001b[0m\u001b[38;5;249m=\u001b[0m\u001b[38;5;249m \u001b[0m\u001b[38;5;54ma\u001b[0m\u001b[38;5;54m[\u001b[0m\u001b[38;5;54m1\u001b[0m\u001b[38;5;54m0\u001b[0m\u001b[38;5;54m]\u001b[0m\u001b[38;5;249m;\u001b[0m",
      " \u001b[38;5;246m  ·\u001b[0m                \u001b[38;5;54m─\u001b[0m\u001b[38;5;54m─\u001b[0m\u001b[38;5;54m┬\u001b[0m\u001b[38;5;54m─\u001b[0m\u001b[38;5;54m─\u001b[0m  ",
      " \u001b[38;5;246m  ·\u001b[0m                  \u001b[38;5;54m╰\u001b[0m\u001b[38;5;54m─\u001b[0m\u001b[38;5;54m─\u001b[0m\u001b[38;5;54m─\u001b[0m\u001b[38;5;54m─\u001b[0m index out of bounds: the length is 5 but the index is 10",
      "\u001b[38;5;246m───╯\u001b[0m"
     ]
    }
   ],
   "source": [
    "fn main() {\n",
    "    let a = [1, 2, 3, 4, 5];\n",
    "    // The program resulted in a runtime error at the point of using an invalid value in the indexing operation. \n",
    "    // The program exited with an error message and didn’t execute the final println! \n",
    "    // statement. When you attempt to access an element using indexing, Rust will check that the index you’ve specified is less than the array length. \n",
    "    // If the index is greater than or equal to the length, Rust will panic. This check has to happen at runtime\n",
    "    // This is an example of Rust’s memory safety principles in action. \n",
    "    // In many low-level languages, this kind of check is not done, and when you provide an incorrect index, invalid memory can be accessed. \n",
    "    // Rust protects you against this kind of error by immediately exiting instead of allowing the memory access and continuing.\n",
    "    let over = a[10];\n",
    "    println!(\"{over}\")\n",
    "}\n",
    "\n",
    "main()"
   ]
  },
  {
   "cell_type": "code",
   "execution_count": null,
   "id": "cb3178e2-9970-4f3f-91d5-b669136b7f58",
   "metadata": {},
   "outputs": [],
   "source": []
  }
 ],
 "metadata": {
  "kernelspec": {
   "display_name": "Rust",
   "language": "rust",
   "name": "rust"
  },
  "language_info": {
   "codemirror_mode": "rust",
   "file_extension": ".rs",
   "mimetype": "text/rust",
   "name": "Rust",
   "pygment_lexer": "rust",
   "version": ""
  }
 },
 "nbformat": 4,
 "nbformat_minor": 5
}

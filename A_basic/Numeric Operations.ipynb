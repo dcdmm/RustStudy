{
 "cells": [
  {
   "cell_type": "code",
   "execution_count": 4,
   "id": "0b6e90a2-00ba-4944-b347-8f1068ead15e",
   "metadata": {},
   "outputs": [
    {
     "name": "stdout",
     "output_type": "stream",
     "text": [
      "15\n",
      "91.2\n",
      "120\n",
      "1.7608695652173911\n",
      "0\n",
      "3\n"
     ]
    },
    {
     "data": {
      "text/plain": [
       "()"
      ]
     },
     "execution_count": 4,
     "metadata": {},
     "output_type": "execute_result"
    }
   ],
   "source": [
    "fn main() {\n",
    "    // addition\n",
    "    let sum = 5 + 10;\n",
    "    println!(\"{sum}\");\n",
    "\n",
    "    // subtraction\n",
    "    let difference = 95.5 - 4.3;\n",
    "    println!(\"{difference}\");\n",
    "    \n",
    "    // multiplication\n",
    "    let product = 4 * 30;\n",
    "    println!(\"{product}\");\n",
    "    \n",
    "    // division\n",
    "    let quotient = 56.7 / 32.2;\n",
    "    //  Integer division rounds down to the nearest integer. \n",
    "    let floored = 2 / 3; // Results in 0\n",
    "    println!(\"{quotient}\");\n",
    "    println!(\"{floored}\");\n",
    "    \n",
    "    // remainder\n",
    "    let remainder = 43 % 5;\n",
    "    println!(\"{remainder}\");\n",
    "}\n",
    "\n",
    "main()\n"
   ]
  },
  {
   "cell_type": "code",
   "execution_count": null,
   "id": "ff8b9cc4-193f-4c0b-b935-7c0d90b4ea51",
   "metadata": {},
   "outputs": [],
   "source": []
  }
 ],
 "metadata": {
  "kernelspec": {
   "display_name": "Rust",
   "language": "rust",
   "name": "rust"
  },
  "language_info": {
   "codemirror_mode": "rust",
   "file_extension": ".rs",
   "mimetype": "text/rust",
   "name": "Rust",
   "pygment_lexer": "rust",
   "version": ""
  }
 },
 "nbformat": 4,
 "nbformat_minor": 5
}

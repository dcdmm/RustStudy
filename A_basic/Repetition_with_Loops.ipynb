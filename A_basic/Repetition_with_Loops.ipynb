{
 "cells": [
  {
   "cell_type": "code",
   "execution_count": 2,
   "id": "3f3a1765-144a-40c0-9a64-68db6491fdb8",
   "metadata": {},
   "outputs": [
    {
     "name": "stdout",
     "output_type": "stream",
     "text": [
      "We loop forever!\n"
     ]
    },
    {
     "data": {
      "text/plain": [
       "()"
      ]
     },
     "execution_count": 2,
     "metadata": {},
     "output_type": "execute_result"
    }
   ],
   "source": [
    "fn main() {\n",
    "    loop {\n",
    "    // Keep printing, printing, printing...\n",
    "    println!(\"We loop forever!\");\n",
    "    \n",
    "    // On the other hand, maybe we should stop!\n",
    "    // When the program encounters the break keyword, it stops executing the actions in the body of the loop expression and continues to the next code statement.\n",
    "    break;                            \n",
    "    }\n",
    "}\n",
    "\n",
    "main()"
   ]
  },
  {
   "cell_type": "code",
   "execution_count": 3,
   "id": "e9a89aa2-f838-4992-b9ac-7d64e11f559a",
   "metadata": {},
   "outputs": [
    {
     "name": "stdout",
     "output_type": "stream",
     "text": [
      "The result is 20\n"
     ]
    },
    {
     "data": {
      "text/plain": [
       "()"
      ]
     },
     "execution_count": 3,
     "metadata": {},
     "output_type": "execute_result"
    }
   ],
   "source": [
    "fn main() {\n",
    "    let mut counter = 0; // 初始化为0\n",
    "\n",
    "    let result = loop {\n",
    "        counter += 1;\n",
    "\n",
    "        if counter == 10 {\n",
    "            break counter * 2; // 退出循环并返回counter * 2\n",
    "        }\n",
    "    };\n",
    "\n",
    "    println!(\"The result is {result}\");\n",
    "}\n",
    "\n",
    "main()"
   ]
  },
  {
   "cell_type": "code",
   "execution_count": 4,
   "id": "0aaf3bb5-3250-4d79-8955-be5c6559356e",
   "metadata": {},
   "outputs": [
    {
     "name": "stdout",
     "output_type": "stream",
     "text": [
      "count = 0\n",
      "remaining = 10\n",
      "remaining = 9\n",
      "count = 1\n",
      "remaining = 10\n",
      "remaining = 9\n",
      "count = 2\n",
      "remaining = 10\n",
      "End count = 2\n"
     ]
    },
    {
     "data": {
      "text/plain": [
       "()"
      ]
     },
     "execution_count": 4,
     "metadata": {},
     "output_type": "execute_result"
    }
   ],
   "source": [
    "fn main() {\n",
    "    let mut count = 0;\n",
    "    // If you have loops within loops, break and continue apply to the innermost loop at that point. \n",
    "    // You can optionally specify a loop label on a loop that we can then use with break or continue to specify that those keywords apply to the labeled loop instead of the innermost loop. \n",
    "    // Loop labels must begin with a single quote.\n",
    "    'counting_up: loop {\n",
    "        println!(\"count = {count}\");\n",
    "        let mut remaining = 10;\n",
    "\n",
    "        loop {\n",
    "            println!(\"remaining = {remaining}\");\n",
    "            if remaining == 9 {\n",
    "                break;\n",
    "            }\n",
    "            if count == 2 {\n",
    "                break 'counting_up;\n",
    "            }\n",
    "            remaining -= 1;\n",
    "        }\n",
    "\n",
    "        count += 1;\n",
    "    }\n",
    "    println!(\"End count = {count}\");\n",
    "}\n",
    "\n",
    "main()"
   ]
  },
  {
   "cell_type": "code",
   "execution_count": 5,
   "id": "f559050f-797e-45ae-bb2c-1d301691cc34",
   "metadata": {},
   "outputs": [
    {
     "name": "stdout",
     "output_type": "stream",
     "text": [
      "3!\n",
      "2!\n",
      "1!\n",
      "LIFTOFF!!!\n"
     ]
    },
    {
     "data": {
      "text/plain": [
       "()"
      ]
     },
     "execution_count": 5,
     "metadata": {},
     "output_type": "execute_result"
    }
   ],
   "source": [
    "fn main() {\n",
    "    let mut number = 3;\n",
    "\n",
    "    while number != 0 {\n",
    "        println!(\"{number}!\");\n",
    "\n",
    "        number -= 1;\n",
    "    }\n",
    "\n",
    "    println!(\"LIFTOFF!!!\");\n",
    "}\n",
    "\n",
    "main()"
   ]
  },
  {
   "cell_type": "code",
   "execution_count": 7,
   "id": "cd46ddb4-db63-4051-b3c3-b4e9edc5f97a",
   "metadata": {},
   "outputs": [
    {
     "name": "stdout",
     "output_type": "stream",
     "text": [
      "the value is: 10\n",
      "the value is: 20\n",
      "the value is: 30\n",
      "the value is: 40\n",
      "the value is: 50\n"
     ]
    },
    {
     "data": {
      "text/plain": [
       "()"
      ]
     },
     "execution_count": 7,
     "metadata": {},
     "output_type": "execute_result"
    }
   ],
   "source": [
    "fn main() {\n",
    "    let a = [10, 20, 30, 40, 50];\n",
    "\n",
    "    for element in a {\n",
    "        println!(\"the value is: {element}\");\n",
    "    }\n",
    "}\n",
    "\n",
    "main()"
   ]
  },
  {
   "cell_type": "code",
   "execution_count": 8,
   "id": "9055eb02-9c04-4833-bf6e-c96754ef09b5",
   "metadata": {},
   "outputs": [
    {
     "name": "stdout",
     "output_type": "stream",
     "text": [
      "3!\n",
      "2!\n",
      "1!\n",
      "LIFTOFF!!!\n"
     ]
    },
    {
     "data": {
      "text/plain": [
       "()"
      ]
     },
     "execution_count": 8,
     "metadata": {},
     "output_type": "execute_result"
    }
   ],
   "source": [
    "fn main() {\n",
    "    for number in (1..4).rev() {\n",
    "        println!(\"{number}!\");\n",
    "    }\n",
    "    println!(\"LIFTOFF!!!\");\n",
    "}\n",
    "\n",
    "main()"
   ]
  },
  {
   "cell_type": "code",
   "execution_count": null,
   "id": "32aa61e8-6c55-4257-97b7-5a33936284aa",
   "metadata": {},
   "outputs": [],
   "source": []
  }
 ],
 "metadata": {
  "kernelspec": {
   "display_name": "Rust",
   "language": "rust",
   "name": "rust"
  },
  "language_info": {
   "codemirror_mode": "rust",
   "file_extension": ".rs",
   "mimetype": "text/rust",
   "name": "Rust",
   "pygment_lexer": "rust",
   "version": ""
  }
 },
 "nbformat": 4,
 "nbformat_minor": 5
}

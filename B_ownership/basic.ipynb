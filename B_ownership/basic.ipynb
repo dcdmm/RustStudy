{
 "cells": [
  {
   "cell_type": "markdown",
   "id": "96eb3f2e-86ff-4fdc-8ba0-00e8219ccf0d",
   "metadata": {},
   "source": [
    "* Each value in Rust has an owner.\n",
    "* There can only be one owner at a time.\n",
    "* When the owner goes out of scope, the value will be dropped."
   ]
  },
  {
   "cell_type": "code",
   "execution_count": 2,
   "id": "41bd2a2d-64d5-4bd6-9ee7-343a36a73fd8",
   "metadata": {},
   "outputs": [],
   "source": [
    "// When s comes into scope, it is valid.\n",
    "// It remains valid until it goes out of scope.\n",
    "fn main() {\n",
    "    // s is not valid here, it’s not yet declared\n",
    "    let s = \"hello\";  // s is valid from this point forward\n",
    "    // do stuff with s\n",
    "      \n",
    "}  // this scope is now over, and s is no longer valid"
   ]
  },
  {
   "cell_type": "code",
   "execution_count": 3,
   "id": "7575a5bf-7ab8-4fbb-808e-f8e9a8bd705a",
   "metadata": {},
   "outputs": [
    {
     "name": "stdout",
     "output_type": "stream",
     "text": [
      "hello, world!\n"
     ]
    },
    {
     "data": {
      "text/plain": [
       "()"
      ]
     },
     "execution_count": 3,
     "metadata": {},
     "output_type": "execute_result"
    }
   ],
   "source": [
    "fn main() {\n",
    "    // This kind of string can be mutated:\n",
    "    let mut s = String::from(\"hello\");\n",
    "\n",
    "    s.push_str(\", world!\"); // push_str() appends a literal to a String\n",
    "\n",
    "    println!(\"{}\", s); // This will print `hello, world!`\n",
    "}\n",
    "\n",
    "main()"
   ]
  },
  {
   "cell_type": "code",
   "execution_count": 4,
   "id": "811843ba-7128-4542-9148-fa199749f64b",
   "metadata": {},
   "outputs": [],
   "source": [
    "// In languages with a garbage collector (GC), the GC keeps track of and cleans up memory that isn’t being used anymore, and we don’t need to think about it. \n",
    "// In most languages without a GC, it’s our responsibility to identify when memory is no longer being used and to call code to explicitly free it, just as we did to request it. \n",
    "// Doing this correctly has historically been a difficult programming problem. \n",
    "// If we forget, we’ll waste memory. If we do it too early, we’ll have an invalid variable. \n",
    "// If we do it twice, that’s a bug too. We need to pair exactly one allocate with exactly one free.\n",
    "fn main() {\n",
    "    {\n",
    "        let s = String::from(\"hello\"); // s is valid from this point forward\n",
    "\n",
    "        // do stuff with s\n",
    "    }                                  // this scope is now over, and s is no\n",
    "                                       // longer valid\n",
    "}"
   ]
  },
  {
   "cell_type": "code",
   "execution_count": null,
   "id": "33905315-001e-4c68-bd14-c7076cb914ef",
   "metadata": {},
   "outputs": [],
   "source": []
  }
 ],
 "metadata": {
  "kernelspec": {
   "display_name": "Rust",
   "language": "rust",
   "name": "rust"
  },
  "language_info": {
   "codemirror_mode": "rust",
   "file_extension": ".rs",
   "mimetype": "text/rust",
   "name": "Rust",
   "pygment_lexer": "rust",
   "version": ""
  }
 },
 "nbformat": 4,
 "nbformat_minor": 5
}

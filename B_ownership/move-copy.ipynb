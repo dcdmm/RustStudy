{
 "cells": [
  {
   "cell_type": "code",
   "execution_count": 2,
   "id": "f004f92e-1c3a-4bc2-a65b-6808e6d621e3",
   "metadata": {},
   "outputs": [],
   "source": [
    "fn main() {\n",
    "    let x = 5;  // bind the value 5 to x\n",
    "    let y = x;  // then make a copy of the value in x and bind it to y\n",
    "    // We now have two variables, x and y, and both equal 5\n",
    "    // This is indeed what is happening, because integers are simple values with a known, fixed size, and these two 5 values are pushed onto the stack.\n",
    "}"
   ]
  },
  {
   "cell_type": "code",
   "execution_count": 3,
   "id": "861f7743-e6a4-4fc5-a7b4-9a8ba7d62cb1",
   "metadata": {},
   "outputs": [],
   "source": [
    "fn main() {\n",
    "    let s1 = String::from(\"hello\");\n",
    "    let s2 = s1;\n",
    "}"
   ]
  },
  {
   "cell_type": "markdown",
   "id": "7c3cef1c-a0f4-4688-b6e4-f9b11340fc7b",
   "metadata": {},
   "source": [
    "A String is made up of three parts, shown on the left: a pointer to the memory that holds the contents of the string, a length, and a capacity. This group of data is stored on the stack. On the right is the memory on the heap that holds the contents.\n",
    "\n",
    "<img src=\"imgs/img0.svg\" width=\"40%\" height=\"40%\">\n",
    "Figure 0: Representation in memory of a String holding the value \"hello\" bound to s1\n",
    "</br>\n",
    "</br>\n",
    "\n",
    "When we assign s1 to s2, the String data is copied, meaning we copy the pointer, the length, and the capacity that are on the stack. We do not copy the data on the heap that the pointer refers to. In other words, the data representation in memory looks like Figure 1.\n",
    "\n",
    "<img src=\"imgs/img1.svg\" width=\"40%\" height=\"40%\">\n",
    "Figure 1: Representation in memory of the variable s2 that has a copy of the pointer, length, and capacity of s1\n",
    "</br>\n",
    "</br>\n",
    "\n",
    "The representation does not look like Figure 2, which is what memory would look like if Rust instead copied the heap data as well. If Rust did this, the operation s2 = s1 could be very expensive in terms of runtime performance if the data on the heap were large.\n",
    "\n",
    "<img src=\"imgs/img2.svg\" width=\"40%\" height=\"40%\">\n",
    "Figure 2: Another possibility for what s2 = s1 might do if Rust copied the heap data as well\n",
    "</br>\n",
    "</br>\n",
    "\n",
    "Earlier, we said that when a variable goes out of scope, Rust automatically calls the drop function and cleans up the heap memory for that variable. But Figure 2 shows both data pointers pointing to the same location. This is a problem: when s2 and s1 go out of scope, they will both try to free the same memory. This is known as a double free error and is one of the memory safety bugs we mentioned previously. Freeing memory twice can lead to memory corruption, which can potentially lead to security vulnerabilities.\n",
    "\n",
    "To ensure memory safety, after the line let s2 = s1;, Rust considers s1 as no longer valid. Therefore, Rust doesn’t need to free anything when s1 goes out of scope. Check out what happens when you try to use s1 after s2 is created; it won’t work:"
   ]
  },
  {
   "cell_type": "code",
   "execution_count": 4,
   "id": "cd807f66-230e-4b65-9160-077d8f7ac8f0",
   "metadata": {},
   "outputs": [
    {
     "ename": "Error",
     "evalue": "unused variable: `s2`",
     "output_type": "error",
     "traceback": [
      "    let s2 = s1;",
      "\u001b[91m        ^^\u001b[0m \u001b[94mwarning: unused variable: `s2`\u001b[0m",
      "unused variable: `s2`",
      "\u001b[1mhelp\u001b[0m: if this is intentional, prefix it with an underscore\n\n_s2"
     ]
    },
    {
     "ename": "Error",
     "evalue": "borrow of moved value: `s1`",
     "output_type": "error",
     "traceback": [
      "    let s2 = s1;",
      "\u001b[91m             ^^\u001b[0m \u001b[94mvalue moved here\u001b[0m",
      "    println!(\"{}, world!\", s1);",
      "\u001b[91m                           ^^\u001b[0m \u001b[94mvalue borrowed here after move\u001b[0m",
      "    let s1 = String::from(\"hello\");",
      "\u001b[91m        ^^\u001b[0m \u001b[94mmove occurs because `s1` has type `String`, which does not implement the `Copy` trait\u001b[0m",
      "borrow of moved value: `s1`"
     ]
    }
   ],
   "source": [
    "// To ensure memory safety, after the line let s2 = s1;\n",
    "// Rust considers s1 as no longer valid. Therefore, Rust doesn’t need to free anything when s1 goes out of scope. \n",
    "// Check out what happens when you try to use s1 after s2 is created; it won’t work:\n",
    "fn main() {\n",
    "    let s1 = String::from(\"hello\");\n",
    "    let s2 = s1;\n",
    "\n",
    "    println!(\"{}, world!\", s1);\n",
    "}\n",
    "\n",
    "main()"
   ]
  },
  {
   "cell_type": "markdown",
   "id": "ab93d167-eb52-4c76-bfa9-a3acae89a00e",
   "metadata": {},
   "source": [
    "If you’ve heard the terms shallow copy and deep copy while working with other languages, the concept of copying the pointer, length, and capacity without copying the data probably sounds like making a shallow copy. But because Rust also invalidates the first variable, instead of being called a shallow copy, it’s known as a move. In this example, we would say that s1 was moved into s2. So, what actually happens is shown in Figure 3.\n",
    "\n",
    "<img src=\"imgs/img3.svg\" width=\"40%\" height=\"40%\">\n",
    "Figure 3: Representation in memory after s1 has been invalidated\n",
    "</br>\n",
    "</br>\n",
    "\n",
    "That solves our problem! With only s2 valid, when it goes out of scope it alone will free the memory, and we’re done.\n",
    "\n",
    "In addition, there’s a design choice that’s implied by this: Rust will never automatically create “deep” copies of your data. Therefore, any automatic copying can be assumed to be inexpensive in terms of runtime performance."
   ]
  },
  {
   "cell_type": "code",
   "execution_count": 5,
   "id": "8e684f0c-335e-41d2-9e92-2e111c393fe4",
   "metadata": {},
   "outputs": [
    {
     "name": "stdout",
     "output_type": "stream",
     "text": [
      "s1 = hello, s2 = hello\n"
     ]
    },
    {
     "data": {
      "text/plain": [
       "()"
      ]
     },
     "execution_count": 5,
     "metadata": {},
     "output_type": "execute_result"
    }
   ],
   "source": [
    "// If we do want to deeply copy the heap data of the String, not just the stack data, we can use a common method called clone.\n",
    "fn main() {\n",
    "    let s1 = String::from(\"hello\");\n",
    "    let s2 = s1.clone();\n",
    "\n",
    "    println!(\"s1 = {}, s2 = {}\", s1, s2);\n",
    "}\n",
    "\n",
    "// This works just fine and explicitly produces the behavior shown in Figure 2, where the heap data does get copied.\n",
    "// When you see a call to clone, you know that some arbitrary code is being executed and that code may be expensive. \n",
    "// It’s a visual indicator that something different is going on.\n",
    "\n",
    "main()"
   ]
  },
  {
   "cell_type": "markdown",
   "id": "ff842c07-098f-432f-8743-6f97b54dc4ed",
   "metadata": {},
   "source": [
    "But this code seems to contradict what we just learned: we don’t have a call to clone, but x is still valid and wasn’t moved into y.\n",
    "\n",
    "The reason is that types such as integers that have a known size at compile time are stored entirely on the stack, so copies of the actual values are quick to make. That means there’s no reason we would want to prevent x from being valid after we create the variable y. In other words, there’s no difference between deep and shallow copying here, so calling clone wouldn’t do anything different from the usual shallow copying, and we can leave it out.\n",
    "\n",
    "Rust has a special annotation called the Copy trait that we can place on types that are stored on the stackk, \n",
    "If a type implements the Copy trait, variables that use it do not move, but rather are trivially copied, making them still valid after assignment to another variable.\n",
    "\n",
    "Rust won’t let us annotate a type with Copy if the type, or any of its parts, has implemented the Drop trait. If the type needs something special to happen when the value goes out of scope and we add the Copy annotation to that type, we’ll get a compile-time error.\n",
    "\n",
    "Here are some of the types that implement Copy:\n",
    "* All the integer types, such as u32.\n",
    "* The Boolean type, bool, with values true and false.\n",
    "* All the floating-point types, such as f64.\n",
    "* The character type, char.\n",
    "* Tuples, if they only contain types that also implement Copy. For example, (i32, i32) implements Copy, but (i32, String) does not."
   ]
  },
  {
   "cell_type": "code",
   "execution_count": 6,
   "id": "2bbd5918-439f-487d-bda2-029662eb371f",
   "metadata": {},
   "outputs": [
    {
     "name": "stdout",
     "output_type": "stream",
     "text": [
      "x = 5, y = 5\n"
     ]
    },
    {
     "data": {
      "text/plain": [
       "()"
      ]
     },
     "execution_count": 6,
     "metadata": {},
     "output_type": "execute_result"
    }
   ],
   "source": [
    "fn main() {\n",
    "    let x = 5;\n",
    "    let y = x;\n",
    "\n",
    "    println!(\"x = {}, y = {}\", x, y);\n",
    "}\n",
    "\n",
    "main()"
   ]
  },
  {
   "cell_type": "code",
   "execution_count": null,
   "id": "bd1c3b2a-dc3a-4db8-a5f4-25368a614c8d",
   "metadata": {},
   "outputs": [],
   "source": []
  }
 ],
 "metadata": {
  "kernelspec": {
   "display_name": "Rust",
   "language": "rust",
   "name": "rust"
  },
  "language_info": {
   "codemirror_mode": "rust",
   "file_extension": ".rs",
   "mimetype": "text/rust",
   "name": "Rust",
   "pygment_lexer": "rust",
   "version": ""
  }
 },
 "nbformat": 4,
 "nbformat_minor": 5
}

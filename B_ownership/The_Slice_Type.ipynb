{
 "cells": [
  {
   "cell_type": "code",
   "execution_count": 16,
   "id": "31a3e415-2cfb-4172-b925-0103cce7145d",
   "metadata": {},
   "outputs": [
    {
     "name": "stdout",
     "output_type": "stream",
     "text": [
      "5\n",
      "5\n"
     ]
    },
    {
     "data": {
      "text/plain": [
       "()"
      ]
     },
     "execution_count": 16,
     "metadata": {},
     "output_type": "execute_result"
    }
   ],
   "source": [
    "fn first_word(s: &String) -> usize {\n",
    "    let bytes = s.as_bytes();\n",
    "\n",
    "    for (i, &item) in bytes.iter().enumerate() {\n",
    "        if item == b' ' {\n",
    "            return i;\n",
    "        }\n",
    "    }\n",
    "\n",
    "    s.len()\n",
    "}\n",
    "\n",
    "fn main() {\n",
    "    let mut s = String::from(\"hello world\");\n",
    "\n",
    "    let word_index = first_word(&s);\n",
    "    println!(\"{}\", word_index);\n",
    "    \n",
    "    s.clear(); // this empties the String, making it equal to \"\"\n",
    "\n",
    "    // word_index still has the value 5 here, but there's no more string that\n",
    "    // we could meaningfully use the value 5 with. word_index is now totally invalid!\n",
    "    println!(\"{}\", word_index);\n",
    "}\n",
    "\n",
    "main()"
   ]
  },
  {
   "cell_type": "code",
   "execution_count": 10,
   "id": "51e080e8-edd8-4641-a6ff-bcc684803fbb",
   "metadata": {},
   "outputs": [
    {
     "data": {
      "text/plain": [
       "()"
      ]
     },
     "execution_count": 10,
     "metadata": {},
     "output_type": "execute_result"
    }
   ],
   "source": [
    "// A string slice is a reference to part of a String, and it looks like this:\n",
    "fn main() {\n",
    "    let s = String::from(\"hello world\");\n",
    "\n",
    "    let hello = &s[0..5];\n",
    "    let world = &s[6..11];\n",
    "}\n",
    "\n",
    "main()"
   ]
  },
  {
   "cell_type": "markdown",
   "id": "6b1b1676-3a51-4ca9-ba71-96111527a1dc",
   "metadata": {},
   "source": [
    "Rather than a reference to the entire String, hello is a reference to a portion of the String, specified in the extra [0..5] bit. We create slices using a range within brackets by specifying [starting_index..ending_index], where starting_index is the first position in the slice and ending_index is one more than the last position in the slice. Internally, the slice data structure stores the starting position and the length of the slice, which corresponds to ending_index minus starting_index. So, in the case of let world = &s[6..11];, world would be a slice that contains a pointer to the byte at index 6 of s with a length value of 5.\n",
    "\n",
    "<img src=\"imgs/img5.svg\" width=\"70%\" height=\"70%\">\n",
    "Figure 5 String slice referring to part of a String"
   ]
  },
  {
   "cell_type": "code",
   "execution_count": 11,
   "id": "5f4f44c9-9f85-4ca9-b532-e8cb1cd15623",
   "metadata": {},
   "outputs": [],
   "source": [
    "// With Rust’s .. range syntax, if you want to start at index 0, you can drop the value before the two periods. In other words, these are equal:\n",
    "fn main() {\n",
    "    let s = String::from(\"hello\");\n",
    "\n",
    "    let slice = &s[0..2];\n",
    "    let slice = &s[..2];  // 与上等价\n",
    "}\n"
   ]
  },
  {
   "cell_type": "code",
   "execution_count": 12,
   "id": "a14b11da-5bd3-4d7d-898a-7ff4f22bc782",
   "metadata": {},
   "outputs": [],
   "source": [
    "// By the same token, if your slice includes the last byte of the String, you can drop the trailing number. That means these are equal:\n",
    "fn main() {\n",
    "    let s = String::from(\"hello\");\n",
    "\n",
    "    let len = s.len();\n",
    "\n",
    "    let slice = &s[3..len];\n",
    "    let slice = &s[3..];  // 与上等价\n",
    "}\n"
   ]
  },
  {
   "cell_type": "code",
   "execution_count": 13,
   "id": "9a7b5418-cf2e-475e-92a7-ee561d15aa36",
   "metadata": {},
   "outputs": [],
   "source": [
    "// You can also drop both values to take a slice of the entire string. So these are equal:\n",
    "fn main() {\n",
    "    let s = String::from(\"hello\");\n",
    "\n",
    "    let len = s.len();\n",
    "\n",
    "    let slice = &s[0..len];\n",
    "    let slice = &s[..];  // 与上等价\n",
    "}\n"
   ]
  },
  {
   "cell_type": "code",
   "execution_count": 17,
   "id": "c3551fe5-b309-49c6-b066-fe1a8df97480",
   "metadata": {},
   "outputs": [
    {
     "ename": "Error",
     "evalue": "cannot borrow `s` as mutable because it is also borrowed as immutable",
     "output_type": "error",
     "traceback": [
      "    s.clear(); // error!",
      "\u001b[91m    ^^^^^^^^^\u001b[0m \u001b[94mmutable borrow occurs here\u001b[0m",
      "    let word = first_word(&s);",
      "\u001b[91m                          ^^\u001b[0m \u001b[94mimmutable borrow occurs here\u001b[0m",
      "    println!(\"{}\", word);",
      "\u001b[91m                   ^^^^\u001b[0m \u001b[94mimmutable borrow later used here\u001b[0m",
      "cannot borrow `s` as mutable because it is also borrowed as immutable"
     ]
    }
   ],
   "source": [
    "// With all this information in mind, let’s rewrite first_word to return a slice. \n",
    "// The type that signifies “string slice” is written as &str:\n",
    "fn first_word(s: &String) -> &str {\n",
    "    let bytes = s.as_bytes();\n",
    "\n",
    "    for (i, &item) in bytes.iter().enumerate() {\n",
    "        if item == b' ' {\n",
    "            return &s[0..i];\n",
    "        }\n",
    "    }\n",
    "\n",
    "    &s[..]\n",
    "}\n",
    "\n",
    "fn main() {\n",
    "    let mut s = String::from(\"hello world\");\n",
    "\n",
    "    let word = first_word(&s);\n",
    "    println!(\"{}\", word);\n",
    "    \n",
    "    s.clear(); // error!\n",
    "\n",
    "    println!(\"{}\", word);\n",
    "}\n",
    "\n",
    "main()"
   ]
  },
  {
   "cell_type": "code",
   "execution_count": 18,
   "id": "22da4e6e-c5ff-4d2c-ba97-1f779d1f8517",
   "metadata": {},
   "outputs": [
    {
     "data": {
      "text/plain": [
       "()"
      ]
     },
     "execution_count": 18,
     "metadata": {},
     "output_type": "execute_result"
    }
   ],
   "source": [
    "fn main() {\n",
    "    // The type of s here is &str: it’s a slice pointing to that specific point of the binary. \n",
    "    // This is also why string literals are immutable; &str is an immutable reference.\n",
    "    let s = \"Hello, world!\";\n",
    "}\n",
    "\n",
    "main()\n"
   ]
  },
  {
   "cell_type": "code",
   "execution_count": 19,
   "id": "7683c3d8-51e9-4316-bacd-db8ae373b771",
   "metadata": {},
   "outputs": [
    {
     "data": {
      "text/plain": [
       "()"
      ]
     },
     "execution_count": 19,
     "metadata": {},
     "output_type": "execute_result"
    }
   ],
   "source": [
    "// 将`fn first_word(s: &String) -> &str` {  改写为:  `fn first_word(s: &str) -> &str {`\n",
    "//  because it allows us to use the same function on both &String values and &str values.\n",
    "fn first_word(s: &str) -> &str {\n",
    "    let bytes = s.as_bytes();\n",
    "\n",
    "    for (i, &item) in bytes.iter().enumerate() {\n",
    "        if item == b' ' {\n",
    "            return &s[0..i];\n",
    "        }\n",
    "    }\n",
    "\n",
    "    &s[..]\n",
    "}\n",
    "\n",
    "fn main() {\n",
    "    let my_string = String::from(\"hello world\");\n",
    "\n",
    "    // `first_word` works on slices of `String`s, whether partial or whole\n",
    "    let word = first_word(&my_string[0..6]);\n",
    "    let word = first_word(&my_string[..]);\n",
    "    // `first_word` also works on references to `String`s, which are equivalent to whole slices of `String`s\n",
    "    let word = first_word(&my_string);\n",
    "\n",
    "    let my_string_literal = \"hello world\";\n",
    "\n",
    "    // `first_word` works on slices of string literals, whether partial or whole\n",
    "    let word = first_word(&my_string_literal[0..6]);\n",
    "    let word = first_word(&my_string_literal[..]);\n",
    "\n",
    "    // Because string literals *are* string slices already, this works too, without the slice syntax!\n",
    "    let word = first_word(my_string_literal);\n",
    "}\n",
    "\n",
    "main()"
   ]
  },
  {
   "cell_type": "code",
   "execution_count": 20,
   "id": "66194742-6535-42e8-951b-b355ff82dc43",
   "metadata": {},
   "outputs": [
    {
     "data": {
      "text/plain": [
       "()"
      ]
     },
     "execution_count": 20,
     "metadata": {},
     "output_type": "execute_result"
    }
   ],
   "source": [
    "fn main() {\n",
    "    let a = [1, 2, 3, 4, 5];\n",
    "    // This slice has the type &[i32]. It works the same way as string slices do, by storing a reference to the first element and a length. \n",
    "    let slice = &a[1..3];\n",
    "\n",
    "    assert_eq!(slice, &[2, 3]);\n",
    "}\n",
    "\n",
    "main()"
   ]
  },
  {
   "cell_type": "code",
   "execution_count": null,
   "id": "aeffe9de-0609-4536-a60c-9dbbddb579b6",
   "metadata": {},
   "outputs": [],
   "source": []
  }
 ],
 "metadata": {
  "kernelspec": {
   "display_name": "Rust",
   "language": "rust",
   "name": "rust"
  },
  "language_info": {
   "codemirror_mode": "rust",
   "file_extension": ".rs",
   "mimetype": "text/rust",
   "name": "Rust",
   "pygment_lexer": "rust",
   "version": ""
  }
 },
 "nbformat": 4,
 "nbformat_minor": 5
}

{
 "cells": [
  {
   "cell_type": "code",
   "execution_count": 45,
   "id": "a289a556-3d6f-4336-8bdf-cf9b1000f021",
   "metadata": {},
   "outputs": [
    {
     "data": {
      "text/plain": [
       "()"
      ]
     },
     "execution_count": 45,
     "metadata": {},
     "output_type": "execute_result"
    }
   ],
   "source": [
    "struct User {\n",
    "    active: bool,\n",
    "    username: String,\n",
    "    email: String,\n",
    "    sign_in_count: u64,\n",
    "}\n",
    "\n",
    "fn main() {\n",
    "    let user1 = User {\n",
    "        email: String::from(\"someone@example.com\"),\n",
    "        username: String::from(\"someusername123\"),\n",
    "        active: true,\n",
    "        sign_in_count: 1,\n",
    "    };\n",
    "}\n",
    "\n",
    "\n",
    "main()"
   ]
  },
  {
   "cell_type": "code",
   "execution_count": 46,
   "id": "75be5112-7db9-4f5f-8d95-1c93106675f3",
   "metadata": {},
   "outputs": [
    {
     "name": "stdout",
     "output_type": "stream",
     "text": [
      "someone@example.com\n",
      "anotheremail@example.com\n"
     ]
    },
    {
     "data": {
      "text/plain": [
       "()"
      ]
     },
     "execution_count": 46,
     "metadata": {},
     "output_type": "execute_result"
    }
   ],
   "source": [
    "struct User {\n",
    "    active: bool,\n",
    "    username: String,\n",
    "    email: String,\n",
    "    sign_in_count: u64,\n",
    "}\n",
    "\n",
    "fn main() {\n",
    "    let mut user1 = User {\n",
    "        email: String::from(\"someone@example.com\"),\n",
    "        username: String::from(\"someusername123\"),\n",
    "        active: true,\n",
    "        sign_in_count: 1,\n",
    "    };\n",
    "    \n",
    "    // To get a specific value from a struct, we use dot notation. \n",
    "    println!(\"{}\", user1.email);\n",
    "    \n",
    "    // we can change a value by using the dot notation and assigning into a particular field\n",
    "    user1.email = String::from(\"anotheremail@example.com\");\n",
    "\n",
    "    println!(\"{}\", user1.email);\n",
    "}\n",
    "\n",
    "main()"
   ]
  },
  {
   "cell_type": "markdown",
   "id": "6cf2b2ed-f23f-4534-a30e-43c7a89268ed",
   "metadata": {},
   "source": [
    "Note that the entire instance must be mutable; Rust doesn’t allow us to mark only certain fields as mutable. As with any expression, we can construct a new instance of the struct as the last expression in the function body to implicitly return that new instance."
   ]
  },
  {
   "cell_type": "code",
   "execution_count": 47,
   "id": "0a694c19-0ab5-42f1-b33b-109d8211dd37",
   "metadata": {},
   "outputs": [
    {
     "data": {
      "text/plain": [
       "()"
      ]
     },
     "execution_count": 47,
     "metadata": {},
     "output_type": "execute_result"
    }
   ],
   "source": [
    "struct User {\n",
    "    active: bool,\n",
    "    username: String,\n",
    "    email: String,\n",
    "    sign_in_count: u64,\n",
    "}\n",
    "\n",
    "fn build_user(email: String, username: String) -> User {\n",
    "    User {\n",
    "        email: email,\n",
    "        username: username,\n",
    "        active: true,\n",
    "        sign_in_count: 1,\n",
    "    }\n",
    "}\n",
    "\n",
    "fn main() {\n",
    "    let user1 = build_user(\n",
    "        String::from(\"someone@example.com\"),\n",
    "        String::from(\"someusername123\"),\n",
    "    );\n",
    "}\n",
    "\n",
    "main()"
   ]
  },
  {
   "cell_type": "code",
   "execution_count": 48,
   "id": "40754ef5-96d7-4437-9d70-c8947bbe7df5",
   "metadata": {},
   "outputs": [
    {
     "data": {
      "text/plain": [
       "()"
      ]
     },
     "execution_count": 48,
     "metadata": {},
     "output_type": "execute_result"
    }
   ],
   "source": [
    "struct User {\n",
    "    active: bool,\n",
    "    username: String,\n",
    "    email: String,\n",
    "    sign_in_count: u64,\n",
    "}\n",
    "\n",
    "// Here, we’re creating a new instance of the User struct, which has a field named email. \n",
    "// We want to set the email field’s value to the value in the email parameter of the build_user function. \n",
    "// Because the email field and the email parameter have the same name, we only need to write email rather than email: email.\n",
    "fn build_user(email: String, username: String) -> User {\n",
    "    User {\n",
    "        email,\n",
    "        username,\n",
    "        active: true,\n",
    "        sign_in_count: 1,\n",
    "    }\n",
    "}\n",
    "\n",
    "fn main() {\n",
    "    let user1 = build_user(\n",
    "        String::from(\"someone@example.com\"),\n",
    "        String::from(\"someusername123\"),\n",
    "    );\n",
    "}\n",
    "\n",
    "main()"
   ]
  },
  {
   "cell_type": "code",
   "execution_count": 49,
   "id": "3775bffd-59d8-4985-af10-1f0d7f9cd418",
   "metadata": {},
   "outputs": [
    {
     "data": {
      "text/plain": [
       "()"
      ]
     },
     "execution_count": 49,
     "metadata": {},
     "output_type": "execute_result"
    }
   ],
   "source": [
    "struct User {\n",
    "    active: bool,\n",
    "    username: String,\n",
    "    email: String,\n",
    "    sign_in_count: u64,\n",
    "}\n",
    "\n",
    "fn main() {\n",
    "    let mut user1 = User {\n",
    "        email: String::from(\"someone@example.com\"),\n",
    "        username: String::from(\"someusername123\"),\n",
    "        active: true,\n",
    "        sign_in_count: 1,\n",
    "    };\n",
    "\n",
    "    let user2 = User {\n",
    "        active: user1.active,\n",
    "        username: user1.username,\n",
    "        email: String::from(\"another@example.com\"),\n",
    "        sign_in_count: user1.sign_in_count,\n",
    "    };\n",
    "\n",
    "    let mut user3 = User {\n",
    "        email: String::from(\"someone@example.com\"),\n",
    "        username: String::from(\"someusername123\"),\n",
    "        active: true,\n",
    "        sign_in_count: 1,\n",
    "    };\n",
    "    \n",
    "    // 与上等价(但更加简洁)\n",
    "    let user4 = User {\n",
    "        email: String::from(\"another@example.com\"),\n",
    "        // The syntax .. specifies that the remaining fields not explicitly set should have the same value as the fields in the given instance.\n",
    "        ..user3\n",
    "    };\n",
    "}\n",
    "\n",
    "main()"
   ]
  },
  {
   "cell_type": "code",
   "execution_count": 50,
   "id": "17ba99ea-7a4a-416b-af44-dc3413784f4e",
   "metadata": {},
   "outputs": [
    {
     "ename": "Error",
     "evalue": "unused variable: `user2`",
     "output_type": "error",
     "traceback": [
      "    let user2 = User1 {",
      "\u001b[91m        ^^^^^\u001b[0m \u001b[94mwarning: unused variable: `user2`\u001b[0m",
      "unused variable: `user2`",
      "\u001b[1mhelp\u001b[0m: if this is intentional, prefix it with an underscore\n\n_user2"
     ]
    },
    {
     "ename": "Error",
     "evalue": "unused variable: `user3`",
     "output_type": "error",
     "traceback": [
      "    let user3 = User1 {",
      "\u001b[91m        ^^^^^\u001b[0m \u001b[94mwarning: unused variable: `user3`\u001b[0m",
      "unused variable: `user3`",
      "\u001b[1mhelp\u001b[0m: if this is intentional, prefix it with an underscore\n\n_user3"
     ]
    },
    {
     "ename": "Error",
     "evalue": "use of moved value: `user1.username`",
     "output_type": "error",
     "traceback": [
      "        username: user1.username,",
      "\u001b[91m                  ^^^^^^^^^^^^^^\u001b[0m \u001b[94mvalue moved here\u001b[0m",
      "        username: user1.username,",
      "\u001b[91m                  ^^^^^^^^^^^^^^\u001b[0m \u001b[94mvalue used here after move\u001b[0m",
      "use of moved value: `user1.username`"
     ]
    }
   ],
   "source": [
    "struct User1 {\n",
    "    active: bool,\n",
    "    username: String,\n",
    "    email: String,\n",
    "    sign_in_count: u64,\n",
    "}\n",
    "\n",
    "fn main() {\n",
    "    let mut user1 = User1 {\n",
    "        email: String::from(\"someone@example.com\"),\n",
    "        username: String::from(\"someusername123\"),\n",
    "        active: true,\n",
    "        sign_in_count: 1,\n",
    "    };\n",
    "\n",
    "    let user2 = User1 {\n",
    "        active: user1.active,\n",
    "        username: user1.username,\n",
    "        email: String::from(\"another@example.com\"),\n",
    "        sign_in_count: user1.sign_in_count,\n",
    "    };\n",
    "    \n",
    "    let user3 = User1 {\n",
    "        email: String::from(\"another@example.com\"),\n",
    "        active: user1.active,\n",
    "        sign_in_count: user1.sign_in_count,\n",
    "        // 报错:use of moved value: `user1.username`\n",
    "        username: user1.username,\n",
    "    };\n",
    "}\n",
    "\n",
    "main()"
   ]
  },
  {
   "cell_type": "code",
   "execution_count": 51,
   "id": "5b96dbf4-9f26-4226-ab98-18fa1b98d50e",
   "metadata": {},
   "outputs": [
    {
     "data": {
      "text/plain": [
       "()"
      ]
     },
     "execution_count": 51,
     "metadata": {},
     "output_type": "execute_result"
    }
   ],
   "source": [
    "// Rust also supports structs that look similar to tuples, called tuple structs. \n",
    "// Tuple structs have the added meaning the struct name provides but don’t have names associated with their fields; \n",
    "// rather, they just have the types of the fields. \n",
    "// Tuple structs are useful when you want to give the whole tuple a name and make the tuple a different type from other tuples, and when naming each field as in a regular struct would be verbose or redundant.\n",
    "\n",
    "// To define a tuple struct, start with the struct keyword and the struct name followed by the types in the tuple. \n",
    "struct Color(i32, i32, i32);\n",
    "struct Point(i32, i32, i32);\n",
    "\n",
    "fn main() {\n",
    "    // Note that the black and origin values are different types, because they’re instances of different tuple structs. \n",
    "    // Each struct you define is its own type, even though the fields within the struct might have the same types.\n",
    "    let black = Color(0, 0, 0);\n",
    "    let origin = Point(0, 0, 0);\n",
    "}\n",
    "\n",
    "main()"
   ]
  },
  {
   "cell_type": "code",
   "execution_count": 52,
   "id": "95748848-6f7a-47d1-9502-cbb347fee973",
   "metadata": {},
   "outputs": [
    {
     "data": {
      "text/plain": [
       "()"
      ]
     },
     "execution_count": 52,
     "metadata": {},
     "output_type": "execute_result"
    }
   ],
   "source": [
    "// You can also define structs that don’t have any fields! \n",
    "// These are called unit-like structs because they behave similarly to (), the unit type that we mentioned in “The Tuple Type” section. \n",
    "// Unit-like structs can be useful when you need to implement a trait on some type but don’t have any data that you want to store in the type itself.\n",
    "struct AlwaysEqual;\n",
    "\n",
    "fn main() {\n",
    "    let subject = AlwaysEqual;\n",
    "}\n",
    "\n",
    "main()"
   ]
  }
 ],
 "metadata": {
  "kernelspec": {
   "display_name": "Rust",
   "language": "rust",
   "name": "rust"
  },
  "language_info": {
   "codemirror_mode": "rust",
   "file_extension": ".rs",
   "mimetype": "text/rust",
   "name": "Rust",
   "pygment_lexer": "rust",
   "version": ""
  }
 },
 "nbformat": 4,
 "nbformat_minor": 5
}
